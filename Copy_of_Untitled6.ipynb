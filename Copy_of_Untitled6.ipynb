{
  "nbformat": 4,
  "nbformat_minor": 0,
  "metadata": {
    "colab": {
      "name": "Copy of Untitled6.ipynb",
      "provenance": [],
      "authorship_tag": "ABX9TyMlt+IEO4cN6FhRITHzW/Hn",
      "include_colab_link": true
    },
    "kernelspec": {
      "name": "python3",
      "display_name": "Python 3"
    },
    "accelerator": "GPU"
  },
  "cells": [
    {
      "cell_type": "markdown",
      "metadata": {
        "id": "view-in-github",
        "colab_type": "text"
      },
      "source": [
        "<a href=\"https://colab.research.google.com/github/adigandi/.github.io/blob/master/Copy_of_Untitled6.ipynb\" target=\"_parent\"><img src=\"https://colab.research.google.com/assets/colab-badge.svg\" alt=\"Open In Colab\"/></a>"
      ]
    },
    {
      "cell_type": "code",
      "metadata": {
        "id": "Eq-M9hmN1V6_",
        "colab_type": "code",
        "outputId": "f9bd37e9-e502-4661-9f23-d0000911c1e6",
        "colab": {
          "base_uri": "https://localhost:8080/",
          "height": 224
        }
      },
      "source": [
        "# ohne Ausrufezeichen bei Ausführung im lokalen Notebook\n",
        "!pip install --upgrade deeplearning2020\n",
        "from deeplearning2020.datasets import ImageWoof\n",
        "from deeplearning2020 import helpers\n",
        "\n"
      ],
      "execution_count": 0,
      "outputs": [
        {
          "output_type": "stream",
          "text": [
            "Requirement already up-to-date: deeplearning2020 in /usr/local/lib/python3.6/dist-packages (0.4.21)\n",
            "Requirement already satisfied, skipping upgrade: kerasltisubmission>=0.4.9 in /usr/local/lib/python3.6/dist-packages (from deeplearning2020) (0.4.9)\n",
            "Requirement already satisfied, skipping upgrade: requests in /usr/local/lib/python3.6/dist-packages (from kerasltisubmission>=0.4.9->deeplearning2020) (2.21.0)\n",
            "Requirement already satisfied, skipping upgrade: numpy in /usr/local/lib/python3.6/dist-packages (from kerasltisubmission>=0.4.9->deeplearning2020) (1.18.2)\n",
            "Requirement already satisfied, skipping upgrade: progressbar2 in /usr/local/lib/python3.6/dist-packages (from kerasltisubmission>=0.4.9->deeplearning2020) (3.38.0)\n",
            "Requirement already satisfied, skipping upgrade: certifi>=2017.4.17 in /usr/local/lib/python3.6/dist-packages (from requests->kerasltisubmission>=0.4.9->deeplearning2020) (2019.11.28)\n",
            "Requirement already satisfied, skipping upgrade: chardet<3.1.0,>=3.0.2 in /usr/local/lib/python3.6/dist-packages (from requests->kerasltisubmission>=0.4.9->deeplearning2020) (3.0.4)\n",
            "Requirement already satisfied, skipping upgrade: urllib3<1.25,>=1.21.1 in /usr/local/lib/python3.6/dist-packages (from requests->kerasltisubmission>=0.4.9->deeplearning2020) (1.24.3)\n",
            "Requirement already satisfied, skipping upgrade: idna<2.9,>=2.5 in /usr/local/lib/python3.6/dist-packages (from requests->kerasltisubmission>=0.4.9->deeplearning2020) (2.8)\n",
            "Requirement already satisfied, skipping upgrade: python-utils>=2.3.0 in /usr/local/lib/python3.6/dist-packages (from progressbar2->kerasltisubmission>=0.4.9->deeplearning2020) (2.4.0)\n",
            "Requirement already satisfied, skipping upgrade: six in /usr/local/lib/python3.6/dist-packages (from progressbar2->kerasltisubmission>=0.4.9->deeplearning2020) (1.12.0)\n"
          ],
          "name": "stdout"
        }
      ]
    },
    {
      "cell_type": "code",
      "metadata": {
        "id": "3S9qUrcW2jwy",
        "colab_type": "code",
        "outputId": "88b3b98d-794a-4eca-b428-770dc7318a50",
        "colab": {
          "base_uri": "https://localhost:8080/",
          "height": 102
        }
      },
      "source": [
        "%tensorflow_version 2.x # Befehl für Google Colab für Tensorflow 2\n",
        "\n",
        "# TensorFlow ≥2.0 wird benötigt\n",
        "import tensorflow as tf\n",
        "from tensorflow import keras\n",
        "assert tf.__version__ >= \"2.0\"\n",
        "\n",
        "import numpy as np\n",
        "import matplotlib.pyplot as plt\n",
        "import tensorflow as tf\n",
        "import tensorflow_datasets as tfds\n",
        "import numpy as np\n",
        "from tensorflow.keras.datasets import mnist\n",
        "from tensorflow.keras.layers import Dense, Activation, Input, \\\n",
        "  Conv2D, MaxPooling2D, Flatten\n",
        "from tensorflow.keras.models import Model\n",
        "import matplotlib.pyplot as plt"
      ],
      "execution_count": 0,
      "outputs": [
        {
          "output_type": "stream",
          "text": [
            "`%tensorflow_version` only switches the major version: 1.x or 2.x.\n",
            "You set: `2.x # Befehl für Google Colab für Tensorflow 2`. This will be interpreted as: `2.x`.\n",
            "\n",
            "\n",
            "TensorFlow is already loaded. Please restart the runtime to change versions.\n"
          ],
          "name": "stdout"
        }
      ]
    },
    {
      "cell_type": "code",
      "metadata": {
        "id": "Q8Iu6UKd3Csd",
        "colab_type": "code",
        "outputId": "42d7be29-0a95-421f-d7f8-c797f66f1e3d",
        "colab": {
          "base_uri": "https://localhost:8080/",
          "height": 479
        }
      },
      "source": [
        "\n",
        "train_data, test_data, classes = ImageWoof.load_data()\n",
        "\n",
        "def preprocess(image, label):\n",
        "    resized_image = tf.image.resize(image, [300, 300])\n",
        "    return resized_image, label\n",
        "\n",
        "\n",
        "# Festlegung der Batch Größe für die Datenvorbereitung\n",
        "batch_size = 32 \n",
        "\n",
        "# Durchmischen der Trainingsdaten, dass nicht mit sortierten Bildern trainiert wird \n",
        "\n",
        "train_data = train_data.shuffle(1000) \n",
        "\n",
        "print('shape des Trainigsdatensatzes vor dem preprocessing: ', train_data)\n",
        "\n",
        "train_data = train_data.map(preprocess) \\\n",
        "  .batch(batch_size).prefetch(1)          \n",
        "test_data = test_data.map(preprocess) \\\n",
        "  .batch(batch_size).prefetch(1)\n",
        "\n",
        "print('shape des Traingingsdatensatzes nach dem preprocessing: ', train_data)\n",
        "\n",
        "\n",
        "# model\n",
        "learning_rate=0.001\n",
        "momentum=0.9\n",
        "dense_neurons=100\n",
        "filters_start=32\n",
        "first_kernel_size=(7,7)\n",
        "n_classes=10\n",
        "\n",
        "activation='elu'\n",
        "\n",
        "# Inputgröße muss 300x300 Pixel mit 3 RGB Farben betragen\n",
        "input_layer = Input(shape=(300, 300, 3))\n",
        "\n",
        "# Convolutional Neural Network\n",
        "# 6 Convolutional Layers mit jeweils einer Max Pooling Layer\n",
        "model = Conv2D(\n",
        "    filters= filters_start,\n",
        "    kernel_size=(7,7),\n",
        "    activation=activation\n",
        ")(input_layer)\n",
        "model = MaxPooling2D((2,2))(model)\n",
        "\n",
        "filters_start=filters_start*2\n",
        "\n",
        "model = Conv2D(\n",
        "    filters = filters_start, \n",
        "    kernel_size=(3,3), \n",
        "    activation=activation\n",
        ")(model)\n",
        "model = MaxPooling2D((2,2))(model)\n",
        "\n",
        "\n",
        "filters_start=filters_start*2\n",
        "model = Conv2D(\n",
        "    filters = filters_start, \n",
        "    kernel_size=(3,3), \n",
        "    activation=activation\n",
        ")(model)\n",
        "model = MaxPooling2D((2,2))(model)\n",
        "\n",
        "\n",
        "filters_start=filters_start*2\n",
        "model = Conv2D(\n",
        "    filters = filters_start, \n",
        "    kernel_size=(3,3), \n",
        "    activation=activation\n",
        ")(model)\n",
        "model = MaxPooling2D((2,2))(model)\n",
        "filters_start=filters_start*2\n",
        "model = Conv2D(\n",
        "    filters = filters_start, \n",
        "    kernel_size=(3,3), \n",
        "    activation=activation\n",
        ")(model)\n",
        "model = MaxPooling2D((2,2))(model)\n",
        "filters_start=filters_start*2\n",
        "model = Conv2D(filters = filters_start, \n",
        "  kernel_size=(3,3), \n",
        "  activation=activation, \n",
        "  padding='same'\n",
        ")(model)\n",
        "model = MaxPooling2D((2,2))(model)\n",
        "\n",
        "# Fully-Connected-Classifier\n",
        "model = Flatten()(model)\n",
        "model = Dense(\n",
        "    dense_neurons,\n",
        "    activation=activation\n",
        ")(model)\n",
        "\n",
        "model = Dense(\n",
        "    dense_neurons/2,\n",
        "    activation=activation\n",
        ")(model)\n",
        "\n",
        "model = Dense(\n",
        "    dense_neurons /10,\n",
        "    activation='tanh'\n",
        ")(model)\n",
        "\n",
        "\n",
        "\n",
        "# Output Layer\n",
        "output = Dense(n_classes, activation=\"softmax\")(model)\n",
        "\n",
        "test_model = Model(input_layer, output)\n",
        "\n",
        "\n",
        "\n",
        "\n",
        "\n",
        "test_model.compile(optimizer = tf.keras.optimizers.Adam(0.0001), loss = 'sparse_categorical_crossentropy', metrics = ['accuracy'])\n",
        "\n",
        "test_model.summary\n",
        "history_big = test_model.fit(train_data, epochs = 10, validation_data = test_data)\n",
        "\n",
        "\n",
        "\n"
      ],
      "execution_count": 0,
      "outputs": [
        {
          "output_type": "stream",
          "text": [
            "/root/.keras/datasets/imagewoof2-320/train\n",
            "Loaded 9025 images\n",
            "/root/.keras/datasets/imagewoof2-320/val\n",
            "Loaded 3929 images\n",
            "shape des Trainigsdatensatzes vor dem preprocessing:  <ShuffleDataset shapes: ((None, None, 3), ()), types: (tf.float32, tf.int64)>\n",
            "shape des Traingingsdatensatzes nach dem preprocessing:  <PrefetchDataset shapes: ((None, 300, 300, 3), (None,)), types: (tf.float32, tf.int64)>\n",
            "Epoch 1/10\n",
            "283/283 [==============================] - 50s 175ms/step - loss: 2.1206 - accuracy: 0.2229 - val_loss: 2.0302 - val_accuracy: 0.2823\n",
            "Epoch 2/10\n",
            "283/283 [==============================] - 42s 147ms/step - loss: 1.9858 - accuracy: 0.2958 - val_loss: 1.9538 - val_accuracy: 0.3128\n",
            "Epoch 3/10\n",
            "283/283 [==============================] - 40s 143ms/step - loss: 1.8958 - accuracy: 0.3434 - val_loss: 1.9027 - val_accuracy: 0.3433\n",
            "Epoch 4/10\n",
            "283/283 [==============================] - 38s 135ms/step - loss: 1.8008 - accuracy: 0.3908 - val_loss: 1.8812 - val_accuracy: 0.3533\n",
            "Epoch 5/10\n",
            "283/283 [==============================] - 39s 139ms/step - loss: 1.7230 - accuracy: 0.4320 - val_loss: 1.8212 - val_accuracy: 0.3774\n",
            "Epoch 6/10\n",
            "283/283 [==============================] - 39s 137ms/step - loss: 1.5921 - accuracy: 0.4881 - val_loss: 1.8302 - val_accuracy: 0.3836\n",
            "Epoch 7/10\n",
            "283/283 [==============================] - 40s 142ms/step - loss: 1.4653 - accuracy: 0.5453 - val_loss: 1.8075 - val_accuracy: 0.3940\n",
            "Epoch 8/10\n",
            "283/283 [==============================] - 39s 140ms/step - loss: 1.2816 - accuracy: 0.6349 - val_loss: 1.7799 - val_accuracy: 0.4116\n",
            "Epoch 9/10\n",
            "283/283 [==============================] - 42s 148ms/step - loss: 1.1223 - accuracy: 0.7100 - val_loss: 1.8033 - val_accuracy: 0.4001\n",
            "Epoch 10/10\n",
            "100/283 [=========>....................] - ETA: 21s - loss: 1.0060 - accuracy: 0.7553"
          ],
          "name": "stdout"
        }
      ]
    },
    {
      "cell_type": "code",
      "metadata": {
        "id": "SOrAI07fHD7r",
        "colab_type": "code",
        "outputId": "3e37c055-2412-42b5-c09b-9789462f9a2b",
        "colab": {
          "base_uri": "https://localhost:8080/",
          "height": 295
        }
      },
      "source": [
        "helpers.plot_history('First net performance', history_big, 0)"
      ],
      "execution_count": 0,
      "outputs": [
        {
          "output_type": "display_data",
          "data": {
            "image/png": "[encoded data removed]",
            "text/plain": [
              "<Figure size 432x288 with 1 Axes>"
            ]
          },
          "metadata": {
            "tags": []
          }
        }
      ]
    }
  ]
}